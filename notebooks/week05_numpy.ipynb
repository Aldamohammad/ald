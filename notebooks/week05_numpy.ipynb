{
 "cells": [
  {
   "cell_type": "markdown",
   "metadata": {},
   "source": [
    "### 1) Basic Array Creation 🍏\n",
    "\n",
    "Create a 1D NumPy array containing the integers from 10 to 50, inclusive\n",
    "\n",
    "<details><summary>Useful functions</summary>\n",
    "\n",
    "```python\n",
    "numpy.arange(start, stop, step)  # Returns an array of evenly spaced values within a given interval.\n",
    "```\n",
    "</details>"
   ]
  },
  {
   "cell_type": "code",
   "execution_count": 1,
   "metadata": {},
   "outputs": [
    {
     "name": "stdout",
     "output_type": "stream",
     "text": [
      "[10 11 12 13 14 15 16 17 18 19 20 21 22 23 24 25 26 27 28 29 30 31 32 33\n",
      " 34 35 36 37 38 39 40 41 42 43 44 45 46 47 48 49 50]\n"
     ]
    }
   ],
   "source": [
    "import numpy as np\n",
    "\n",
    "arr = np.arange(10, 51)\n",
    "print(arr)"
   ]
  },
  {
   "cell_type": "markdown",
   "metadata": {},
   "source": [
    "### 2) Array Arithmetic 🔢\n",
    "\n",
    "Create two NumPy arrays of shape `(3, 3)`, filled with random integers between 1 and 20\n",
    "\n",
    "Perform element-wise addition, subtraction, multiplication, and division\n",
    "\n",
    "<details><summary>Useful functions</summary>\n",
    "\n",
    "```python\n",
    "numpy.random.randint(low, high, size)  # Returns an array of random integers from low (inclusive) to high (exclusive)\n",
    "```\n",
    "</details>"
   ]
  },
  {
   "cell_type": "code",
   "execution_count": 2,
   "metadata": {},
   "outputs": [
    {
     "name": "stdout",
     "output_type": "stream",
     "text": [
      "Addition:\n",
      " [[16  6 11]\n",
      " [31 13 27]\n",
      " [24 28 18]]\n",
      "Subtraction:\n",
      " [[ -8   0   5]\n",
      " [ -7  -5  -3]\n",
      " [-12  -6 -12]]\n",
      "Multiplication:\n",
      " [[ 48   9  24]\n",
      " [228  36 180]\n",
      " [108 187  45]]\n",
      "Division:\n",
      " [[0.33333333 1.         2.66666667]\n",
      " [0.63157895 0.44444444 0.8       ]\n",
      " [0.33333333 0.64705882 0.2       ]]\n"
     ]
    }
   ],
   "source": [
    "arr1 = np.random.randint(1, 21, size=(3, 3))\n",
    "arr2 = np.random.randint(1, 21, size=(3, 3))\n",
    "\n",
    "addition = arr1 + arr2\n",
    "subtraction = arr1 - arr2\n",
    "multiplication = arr1 * arr2\n",
    "division = arr1 / arr2\n",
    "\n",
    "print(\"Addition:\\n\", addition)\n",
    "print(\"Subtraction:\\n\", subtraction)\n",
    "print(\"Multiplication:\\n\", multiplication)\n",
    "print(\"Division:\\n\", division)"
   ]
  },
  {
   "cell_type": "markdown",
   "metadata": {},
   "source": [
    "### 3) Summing the Diagonals 🎲\n",
    "\n",
    "Create a 5x5 matrix of random integers between 10 and 100\n",
    "\n",
    "Calculate the sum of both the main diagonal and the anti-diagonal\n",
    "\n",
    "<details><summary>Useful functions</summary>\n",
    "\n",
    "```python\n",
    "numpy.diag(array)    # Extracts the diagonal elements of an array\n",
    "numpy.fliplr(array)  # Flips the array in the left/right direction\n",
    "numpy.sum(array)     # Returns the sum of all elements in the array\n",
    "```\n",
    "</details>"
   ]
  },
  {
   "cell_type": "code",
   "execution_count": 3,
   "metadata": {},
   "outputs": [
    {
     "name": "stdout",
     "output_type": "stream",
     "text": [
      "Main diagonal sum: 247\n",
      "Anti-diagonal sum: 347\n"
     ]
    }
   ],
   "source": [
    "matrix = np.random.randint(10, 101, size=(5, 5))\n",
    "\n",
    "main_diag_sum = np.sum(np.diag(matrix))\n",
    "anti_diag_sum = np.sum(np.diag(np.fliplr(matrix)))\n",
    "\n",
    "print(\"Main diagonal sum:\", main_diag_sum)\n",
    "print(\"Anti-diagonal sum:\", anti_diag_sum)"
   ]
  },
  {
   "cell_type": "markdown",
   "metadata": {},
   "source": [
    "### 4) Fancy Indexing with Conditions 🔍\n",
    "\n",
    "Generate a NumPy array of 100 random integers between 1 and 100\n",
    "\n",
    "Find all elements that are divisible by 3 but not by 5 using array indexing"
   ]
  },
  {
   "cell_type": "code",
   "execution_count": 4,
   "metadata": {},
   "outputs": [
    {
     "name": "stdout",
     "output_type": "stream",
     "text": [
      "[27 81 39 12 51 27 96  9 33 12 54 21 51 57 42 99 51 18 93 66  6  3]\n"
     ]
    }
   ],
   "source": [
    "arr = np.random.randint(1, 101, size=100)\n",
    "\n",
    "filtered = arr[(arr % 3 == 0) & (arr % 5 != 0)]\n",
    "\n",
    "print(filtered)"
   ]
  },
  {
   "cell_type": "markdown",
   "metadata": {},
   "source": [
    "### 5) Flatten, Sort, and Find 📏\n",
    "\n",
    "Create a 6x6 matrix of random integers\n",
    "\n",
    "Flatten it into a 1D array, sort the array, and find the 3 largest elements\n",
    "\n",
    "<details><summary>Useful functions</summary>\n",
    "\n",
    "```python\n",
    "numpy.ndarray.ravel(array)  # Returns a flattened array\n",
    "numpy.sort(array)           # Returns a sorted copy of the array\n",
    "```\n",
    "</details>"
   ]
  },
  {
   "cell_type": "code",
   "execution_count": 5,
   "metadata": {},
   "outputs": [
    {
     "name": "stdout",
     "output_type": "stream",
     "text": [
      "3 largest elements: [99 99 99]\n"
     ]
    }
   ],
   "source": [
    "matrix = np.random.randint(1, 101, size=(6, 6))\n",
    "\n",
    "flattened = matrix.ravel()\n",
    "sorted_array = np.sort(flattened)\n",
    "largest_3 = sorted_array[-3:]\n",
    "\n",
    "print(\"3 largest elements:\", largest_3)"
   ]
  },
  {
   "cell_type": "markdown",
   "metadata": {},
   "source": [
    "### 6) Normalize the Data 📈\n",
    "\n",
    "Create a NumPy array with 20 random floating-point numbers between 0 and 1\n",
    "\n",
    "Normalize this data so that the new values range between 0 and 100\n",
    "\n",
    "> *Hint:* The formula for normalization is: $X_{\\text{norm}} = \\frac{X - X_{\\text{min}}}{X_{\\text{max}} - X_{\\text{min}}} \\times (\\text{new-max} - \\text{new-min}) + \\text{new-min}$\n",
    "\n",
    "<details><summary>Useful functions</summary>\n",
    "\n",
    "```python\n",
    "numpy.random.rand(size)  # Returns an array of random floats in the half-open interval [0.0, 1.0)\n",
    "```\n",
    "</details>"
   ]
  },
  {
   "cell_type": "code",
   "execution_count": 6,
   "metadata": {},
   "outputs": [
    {
     "name": "stdout",
     "output_type": "stream",
     "text": [
      "Normalized array: [ 65.80072545  76.31587023  18.72842322  84.46764364  34.89471042\n",
      "  57.87302605  47.41036145  34.33265447   6.26482588   0.\n",
      "  89.90493604  54.71418158  90.46089926  54.95916868  32.56289898\n",
      "  97.80895191  99.86492151 100.          34.05500722  47.74259213]\n"
     ]
    }
   ],
   "source": [
    "arr = np.random.rand(20)\n",
    "\n",
    "normalized = (arr - arr.min()) / (arr.max() - arr.min()) * (100 - 0) + 0\n",
    "\n",
    "print(\"Normalized array:\", normalized)"
   ]
  },
  {
   "cell_type": "markdown",
   "metadata": {},
   "source": [
    "### 7) Broadcasting and Scaling 📊\n",
    "\n",
    "Create a 4x5 matrix of random integers between 10 and 100\n",
    "\n",
    "Subtract the column-wise mean from each element in the matrix\n",
    "\n",
    "<details><summary>Useful functions</summary>\n",
    "\n",
    "```python\n",
    "numpy.ndarray.mean(array, axis)  # Returns the mean of the array along the specified axis\n",
    "```\n",
    "</details>"
   ]
  },
  {
   "cell_type": "code",
   "execution_count": 7,
   "metadata": {},
   "outputs": [
    {
     "name": "stdout",
     "output_type": "stream",
     "text": [
      "Column-wise mean subtracted:\n",
      " [[-24.5 -14.   -9.  -33.  -47. ]\n",
      " [ 23.5 -16.  -28.   23.  -19. ]\n",
      " [ 14.5  38.   44.    0.   32. ]\n",
      " [-13.5  -8.   -7.   10.   34. ]]\n"
     ]
    }
   ],
   "source": [
    "matrix = np.random.randint(10, 101, size=(4, 5))\n",
    "\n",
    "column_means = matrix.mean(axis=0)\n",
    "standardized = matrix - column_means\n",
    "\n",
    "print(\"Column-wise mean subtracted:\\n\", standardized)"
   ]
  },
  {
   "cell_type": "markdown",
   "metadata": {},
   "source": [
    "### 8) Matrix Multiplication Challenge 🤯\n",
    "\n",
    "Create two matrices of size 4x3 and 3x5 with random integers\n",
    "\n",
    "Perform matrix multiplication on them\n",
    "\n",
    "<details><summary>Useful functions</summary>\n",
    "\n",
    "```python\n",
    "numpy.ndarray.dot(array1, array2)  # Returns the dot product of two arrays\n",
    "```\n",
    "</details>"
   ]
  },
  {
   "cell_type": "code",
   "execution_count": 8,
   "metadata": {},
   "outputs": [
    {
     "name": "stdout",
     "output_type": "stream",
     "text": [
      "Matrix multiplication result:\n",
      " [[ 77  65  57  40  27]\n",
      " [185 163 150 111  58]\n",
      " [106  88  78  50  30]\n",
      " [ 60  51  45  32  21]]\n"
     ]
    }
   ],
   "source": [
    "matrix1 = np.random.randint(1, 10, size=(4, 3))\n",
    "matrix2 = np.random.randint(1, 10, size=(3, 5))\n",
    "\n",
    "result = np.dot(matrix1, matrix2)\n",
    "\n",
    "print(\"Matrix multiplication result:\\n\", result)"
   ]
  },
  {
   "cell_type": "markdown",
   "metadata": {},
   "source": [
    "### 9) Find the Peaks 📉\n",
    "\n",
    "Generate a 1D NumPy array with 20 random integers between 0 and 50\n",
    "\n",
    "Identify the \"peaks\" (local maxima) in the array (local maxima)\n",
    "\n",
    "> *Hint:* compare each element to its neighbors"
   ]
  },
  {
   "cell_type": "code",
   "execution_count": 9,
   "metadata": {},
   "outputs": [
    {
     "name": "stdout",
     "output_type": "stream",
     "text": [
      "Peaks: [40 49 33 30 37 20 48 10]\n"
     ]
    }
   ],
   "source": [
    "arr = np.random.randint(0, 51, size=20)\n",
    "\n",
    "peaks = arr[1:-1][(arr[1:-1] > arr[:-2]) & (arr[1:-1] > arr[2:])]\n",
    "\n",
    "print(\"Peaks:\", peaks)"
   ]
  },
  {
   "cell_type": "markdown",
   "metadata": {},
   "source": [
    "### 10) Simulate a Dice Roll 🎲🎲\n",
    "\n",
    "Simulate rolling two six-sided dice 10,000 times\n",
    "\n",
    "Count how many times the sum of the two dice equals 7"
   ]
  },
  {
   "cell_type": "code",
   "execution_count": 10,
   "metadata": {},
   "outputs": [
    {
     "name": "stdout",
     "output_type": "stream",
     "text": [
      "Number of times the sum is 7: 1642\n"
     ]
    }
   ],
   "source": [
    "rolls = np.random.randint(1, 7, size=(10000, 2))\n",
    "\n",
    "sums = rolls.sum(axis=1)\n",
    "sevens = np.sum(sums == 7)\n",
    "\n",
    "print(\"Number of times the sum is 7:\", sevens)"
   ]
  }
 ],
 "metadata": {
  "kernelspec": {
   "display_name": "Python 3",
   "language": "python",
   "name": "python3"
  },
  "language_info": {
   "codemirror_mode": {
    "name": "ipython",
    "version": 3
   },
   "file_extension": ".py",
   "mimetype": "text/x-python",
   "name": "python",
   "nbconvert_exporter": "python",
   "pygments_lexer": "ipython3",
   "version": "3.12.2"
  }
 },
 "nbformat": 4,
 "nbformat_minor": 2
}

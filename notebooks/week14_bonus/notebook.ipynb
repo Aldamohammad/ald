{
 "cells": [
  {
   "cell_type": "markdown",
   "metadata": {},
   "source": [
    "# Bonus Seminar"
   ]
  },
  {
   "cell_type": "markdown",
   "metadata": {},
   "source": [
    "**Main idea:** To show you what you can do in Python\n",
    "\n",
    "\n",
    "**Plan:**\n",
    "1. [API](https://www.geeksforgeeks.org/python-api-tutorial-getting-started-with-apis/)\n",
    "2. ChatGPT (General [advice](https://medium.com/@cbainfotechgsp/how-to-use-chat-gpt-step-by-step-to-start-open-ai-chatgpt-4643ef928885); [API](https://platform.openai.com/docs/quickstart/get-up-and-running-with-the-openai-api?context=python))\n",
    "3. Sqlite3 (database; [tutorial](https://www.sqlitetutorial.net/))\n",
    "4. SymPy (symbolic mathematics; for math lovers)\n",
    "5. Argparse & Click (CLI)\n"
   ]
  },
  {
   "cell_type": "markdown",
   "metadata": {},
   "source": [
    "### Evaluation Survey\n",
    "\n",
    "Please, fill in the survey (Outlook) to help us make the seminar better."
   ]
  },
  {
   "cell_type": "markdown",
   "metadata": {},
   "source": [
    "### Poetry"
   ]
  },
  {
   "cell_type": "markdown",
   "metadata": {},
   "source": [
    "### API\n",
    "\n",
    "We'll use this one: https://www.weatherapi.com/"
   ]
  },
  {
   "cell_type": "markdown",
   "metadata": {},
   "source": [
    "### ChatGPT\n",
    "\n",
    "* _Simple Use Case:_ Explain me ...\n",
    "* _My Use Case:_ I generated Anki deck with Open AI API."
   ]
  },
  {
   "cell_type": "markdown",
   "metadata": {},
   "source": [
    "### Sqlite3"
   ]
  },
  {
   "cell_type": "markdown",
   "metadata": {},
   "source": [
    "### SymPy\n",
    "\n",
    "Math problems:\n",
    "\n",
    "1. Problem 51:\n",
    "\n",
    "$$\n",
    "\\lim_{n \\to \\infty} \\left( \\frac{1}{n^2} + \\frac{2}{n^2} + \\dots + \\frac{n-1}{n^2} \\right)\n",
    "$$"
   ]
  },
  {
   "cell_type": "code",
   "execution_count": 1,
   "metadata": {},
   "outputs": [
    {
     "name": "stdout",
     "output_type": "stream",
     "text": [
      "Unevaluated summation:\n",
      "n - 1   \n",
      "____    \n",
      "╲       \n",
      " ╲    k \n",
      "  ╲   ──\n",
      "  ╱    2\n",
      " ╱    n \n",
      "╱       \n",
      "‾‾‾‾    \n",
      "k = 1   \n",
      "\n",
      "Evaluated summation:\n",
      " 2    \n",
      "n    n\n",
      "── - ─\n",
      "2    2\n",
      "──────\n",
      "   2  \n",
      "  n   \n",
      "Limit as n approaches infinity: 1/2\n"
     ]
    }
   ],
   "source": [
    "from sympy import symbols, Sum, summation, pretty, oo\n",
    "\n",
    "n, k = symbols('n k', integer=True)\n",
    "\n",
    "# Define the expression\n",
    "expr = k / n**2\n",
    "\n",
    "# Unevaluated summation\n",
    "unevaluated_sum = Sum(expr, (k, 1, n-1))\n",
    "\n",
    "# Evaluated summation\n",
    "evaluated_sum = summation(expr, (k, 1, n-1))\n",
    "\n",
    "# Print both forms\n",
    "print(\"Unevaluated summation:\")\n",
    "print(pretty(unevaluated_sum))\n",
    "\n",
    "print(\"\\nEvaluated summation:\")\n",
    "print(pretty(evaluated_sum))\n",
    "\n",
    "print(\"Limit as n approaches infinity:\", evaluated_sum.limit(n, oo))"
   ]
  },
  {
   "cell_type": "markdown",
   "metadata": {},
   "source": [
    "### Argparse & Click"
   ]
  }
 ],
 "metadata": {
  "kernelspec": {
   "display_name": "Python 3",
   "language": "python",
   "name": "python3"
  },
  "language_info": {
   "codemirror_mode": {
    "name": "ipython",
    "version": 3
   },
   "file_extension": ".py",
   "mimetype": "text/x-python",
   "name": "python",
   "nbconvert_exporter": "python",
   "pygments_lexer": "ipython3",
   "version": "3.12.2"
  }
 },
 "nbformat": 4,
 "nbformat_minor": 2
}

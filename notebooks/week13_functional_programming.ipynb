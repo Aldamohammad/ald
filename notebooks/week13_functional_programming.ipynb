{
 "cells": [
  {
   "cell_type": "markdown",
   "metadata": {
    "vscode": {
     "languageId": "plaintext"
    }
   },
   "source": [
    "### Plan\n",
    "\n",
    "**Theory**\n",
    "* functional vs OOP paradigm\n",
    "* `args`, `kwargs`\n",
    "* `map`, `filter`, `zip`, comprehension\n",
    "* `all`, `any`\n",
    "\n"
   ]
  },
  {
   "cell_type": "markdown",
   "metadata": {},
   "source": [
    "# Theory"
   ]
  },
  {
   "cell_type": "markdown",
   "metadata": {},
   "source": [
    "### `args`, `kwargs`"
   ]
  },
  {
   "cell_type": "code",
   "execution_count": 1,
   "metadata": {},
   "outputs": [
    {
     "name": "stdout",
     "output_type": "stream",
     "text": [
      "positional argument: 1\n",
      "keyword argument: 5\n",
      "args: (2, 3, 4)\n",
      "n args: 3\n",
      "kwargs: {'key1': 6, 'key2': 7}\n"
     ]
    }
   ],
   "source": [
    "def foo(pos_arg, *args, keyword_arg, **kwargs):\n",
    "    print(f\"positional argument: {pos_arg}\")\n",
    "    print(f\"keyword argument: {keyword_arg}\")\n",
    "    print(f\"args: {args}\")\n",
    "    print(f\"n args: {len(args)}\")\n",
    "    print(f\"kwargs: {kwargs}\")\n",
    "\n",
    "foo(1, 2, 3, 4, keyword_arg=5, key1=6, key2=7)"
   ]
  },
  {
   "cell_type": "markdown",
   "metadata": {},
   "source": [
    "### `map`"
   ]
  },
  {
   "cell_type": "code",
   "execution_count": 2,
   "metadata": {},
   "outputs": [
    {
     "name": "stdout",
     "output_type": "stream",
     "text": [
      "[1, 4, 9, 16]\n",
      "[1, 4, 9, 16]\n",
      "[1, 4, 9, 16]\n"
     ]
    }
   ],
   "source": [
    "def square_one(el):\n",
    "    return el*el\n",
    "\n",
    "def square(x):\n",
    "    res = []\n",
    "    for el in x:\n",
    "        res.append(square_one(el))\n",
    "    return res\n",
    "\n",
    "x = [1, 2, 3, 4]\n",
    "print(square(x))\n",
    "print(list(map(square_one, x)))\n",
    "print(list(map(lambda el: el*el, x)))"
   ]
  },
  {
   "cell_type": "markdown",
   "metadata": {},
   "source": [
    "### `lambda`"
   ]
  },
  {
   "cell_type": "code",
   "execution_count": 3,
   "metadata": {},
   "outputs": [
    {
     "name": "stdout",
     "output_type": "stream",
     "text": [
      "lambda const 100\n",
      "lambda const ignore 100\n",
      "lambda square 25\n",
      "lambda sum 10\n",
      "lambda with default 15\n",
      "lambda with default 10\n",
      "a=1, b=2, c=3\n",
      "lambda kwargs print None\n"
     ]
    }
   ],
   "source": [
    "lam_const = lambda: 100\n",
    "lam_const_ignore = lambda *args, **kwargs: 100\n",
    "lam_square = lambda x: x*x\n",
    "lam_sum = lambda *args: sum(args)\n",
    "lam_with_default = lambda x, y=10: x+y\n",
    "lam_kwargs_print = lambda **kwargs: print(', '.join(f\"{k}={v}\" for k, v in kwargs.items()))\n",
    "\n",
    "print(\"lambda const\", lam_const())\n",
    "print(\"lambda const ignore\", lam_const_ignore(1, 2, 3, y=4))\n",
    "print(\"lambda square\", lam_square(5))\n",
    "print(\"lambda sum\", lam_sum(1, 2, 3, 4))\n",
    "print(\"lambda with default\", lam_with_default(5))\n",
    "print(\"lambda with default\", lam_with_default(5, 5))\n",
    "print(\"lambda kwargs print\", lam_kwargs_print(a=1, b=2, c=3))"
   ]
  },
  {
   "cell_type": "markdown",
   "metadata": {},
   "source": [
    "### `zip`, unpacking"
   ]
  },
  {
   "cell_type": "code",
   "execution_count": 4,
   "metadata": {},
   "outputs": [
    {
     "name": "stdout",
     "output_type": "stream",
     "text": [
      "zip\n",
      "(1, 'a', 1)\n",
      "(2, 'b', 2)\n",
      "(3, 'c', 3)\n",
      "(4, 'd', 4)\n",
      "1 a\n",
      "2 b\n",
      "3 c\n",
      "4 d\n",
      "unpacking\n",
      "1 2 [3, 4]\n"
     ]
    }
   ],
   "source": [
    "x = [1, 2, 3, 4]\n",
    "y = ['a', 'b', 'c', 'd', 'ignored_el', 'ignored_el2']\n",
    "\n",
    "print(\"zip\")\n",
    "for el in zip(x, y, x):\n",
    "    print(el)\n",
    "\n",
    "for el_x, el_y in zip(x, y):\n",
    "    print(el_x, el_y)\n",
    "\n",
    "\n",
    "\n",
    "print(\"unpacking\")\n",
    "a, b, *rest = x\n",
    "\n",
    "print(a, b, rest)"
   ]
  },
  {
   "cell_type": "markdown",
   "metadata": {},
   "source": [
    "### `filter`"
   ]
  },
  {
   "cell_type": "code",
   "execution_count": 5,
   "metadata": {},
   "outputs": [
    {
     "name": "stdout",
     "output_type": "stream",
     "text": [
      "[2, 4, 6]\n",
      "[2, 4, 6]\n"
     ]
    }
   ],
   "source": [
    "def is_even(x):\n",
    "    return x % 2 == 0\n",
    "\n",
    "def get_even(x):\n",
    "    res = []\n",
    "    for el in x:\n",
    "        if is_even(el):\n",
    "            res.append(el)\n",
    "    return res\n",
    "\n",
    "x = [1, 2, 3, 4, 5, 6]\n",
    "print(get_even(x))\n",
    "print(list(filter(is_even, x)))"
   ]
  },
  {
   "cell_type": "markdown",
   "metadata": {},
   "source": [
    "# Tasks"
   ]
  },
  {
   "cell_type": "markdown",
   "metadata": {},
   "source": [
    "### Statement (Exploring Indices)\n",
    "\n",
    "Given a string `s` and a start index `n`, write a function that returns a dictionary mapping indices (starting at `n`) to their corresponding characters in `s`.\n",
    "\n",
    "```bash\n",
    ">>> string_to_dict(\"hello\", 5)\n",
    "{5: 'h', 6: 'e', 7: 'l', 8: 'l', 9: 'o'}\n",
    "```"
   ]
  },
  {
   "cell_type": "code",
   "execution_count": 6,
   "metadata": {},
   "outputs": [
    {
     "name": "stdout",
     "output_type": "stream",
     "text": [
      "{1: 'a', 2: 'b', 3: 'c'}\n",
      "{1: 'a', 2: 'b', 3: 'c'}\n"
     ]
    }
   ],
   "source": [
    "def string_to_dict_simple(s, n):\n",
    "    result = {}\n",
    "    for ch in s:\n",
    "        result[n] = ch\n",
    "        n += 1\n",
    "    return result\n",
    "\n",
    "def string_to_dict(s, n):\n",
    "    return {i: ch for i, ch in enumerate(s, n)}\n",
    "\n",
    "\n",
    "print(string_to_dict_simple('abc', 1))\n",
    "print(string_to_dict('abc', 1))"
   ]
  },
  {
   "cell_type": "markdown",
   "metadata": {},
   "source": [
    "### Statement (Custom Logical Functions - my_all)\n",
    "\n",
    "Create a function that checks if all strings in a list are non-empty and contain at least one vowel.\n",
    "\n",
    "```bash\n",
    ">>> all_strings_have_vowels([\"apple\", \"banana\", \"\"])\n",
    "False\n",
    ">>> all_strings_have_vowels([\"apple\", \"orange\", \"grape\"])\n",
    "True\n",
    "```\n"
   ]
  },
  {
   "cell_type": "code",
   "execution_count": 7,
   "metadata": {},
   "outputs": [
    {
     "name": "stdout",
     "output_type": "stream",
     "text": [
      "True\n",
      "False\n"
     ]
    }
   ],
   "source": [
    "VOWELS = set('aeiou')\n",
    "\n",
    "def all_strings_have_vowels_simple(lst):\n",
    "    for s in lst:\n",
    "        flag = False\n",
    "        for ch in s.lower():\n",
    "            if ch in VOWELS:\n",
    "                flag = True\n",
    "                break\n",
    "        if not flag:\n",
    "            return False\n",
    "    return True\n",
    "\n",
    "def all_strings_have_vowels(lst):\n",
    "    return all(s and any(ch in VOWELS for ch in s.lower()) for s in lst)\n",
    "\n",
    "\n",
    "print(all_strings_have_vowels_simple([\"apple\", \"orange\", \"grape\"]))\n",
    "print(all_strings_have_vowels([\"apple\", \"banana\", \"\"]))"
   ]
  },
  {
   "cell_type": "markdown",
   "metadata": {},
   "source": [
    "### Statement (When I'm bored...)\n",
    "\n",
    "Implement a `add_one`, `add_three`, and `add_many` functions such that the following code works.\n",
    "\n",
    "```bash\n",
    ">>> add_many(1)(2)(3)()\n",
    "6\n",
    ">>> add_one(1)()\n",
    "1\n",
    ">>> add_many(1)(2)(3)(4)(5)(6)(7)(8)(9)(10)()\n",
    "55\n",
    "```\n"
   ]
  },
  {
   "cell_type": "code",
   "execution_count": 8,
   "metadata": {},
   "outputs": [
    {
     "name": "stdout",
     "output_type": "stream",
     "text": [
      "5\n",
      "6\n"
     ]
    }
   ],
   "source": [
    "def add_one(a):\n",
    "    return lambda: a\n",
    "\n",
    "def add_three(a):\n",
    "    return lambda b: lambda c: lambda: a + b + c\n",
    "\n",
    "\n",
    "print(add_one(5)())\n",
    "print(add_three(1)(2)(3)())"
   ]
  },
  {
   "cell_type": "code",
   "execution_count": 9,
   "metadata": {},
   "outputs": [
    {
     "name": "stdout",
     "output_type": "stream",
     "text": [
      "3\n",
      "12\n",
      "18\n",
      "55\n"
     ]
    }
   ],
   "source": [
    "from functools import partial\n",
    "\n",
    "def add_many(*args, prev_sum=0):\n",
    "    assert len(args) <= 1, 'Only one or zero arguments are allowed'\n",
    "    if len(args) == 0:\n",
    "        return prev_sum\n",
    "    return partial(add_many, prev_sum=prev_sum + args[0])  # same as: lambda *args: add_many(*args, prev_sum=prev_sum + args[0])\n",
    "\n",
    "print(add_many(3)())\n",
    "print(add_many(3)(4)(5)())\n",
    "print(add_many(3)(4)(5)(6)())\n",
    "print(add_many(1)(2)(3)(4)(5)(6)(7)(8)(9)(10)())"
   ]
  },
  {
   "cell_type": "markdown",
   "metadata": {},
   "source": [
    "### Statement (Chained Functions - compose)\n",
    "\n",
    "Write a function that takes a list of functions and an initial value, and applies the functions to the value in sequence.\n",
    "\n",
    "```bash\n",
    ">>> compose_functions([lambda x: x + 2, lambda x: x * 3], 5)\n",
    "21\n",
    ">>> compose_functions([lambda x: x - 1, lambda x: x ** 2], 4)\n",
    "9\n",
    "```\n"
   ]
  },
  {
   "cell_type": "code",
   "execution_count": 10,
   "metadata": {},
   "outputs": [
    {
     "name": "stdout",
     "output_type": "stream",
     "text": [
      "21\n",
      "9\n"
     ]
    }
   ],
   "source": [
    "def compose_functions_simple(funcs, value):\n",
    "    result = value\n",
    "    for f in funcs:\n",
    "        result = f(result)\n",
    "    return result\n",
    "\n",
    "def compose_functions(funcs, value):\n",
    "    from functools import reduce\n",
    "    return reduce(lambda acc, f: f(acc), funcs, value)\n",
    "\n",
    "\n",
    "print(compose_functions_simple([lambda x: x + 2, lambda x: x * 3], 5))\n",
    "print(compose_functions([lambda x: x - 1, lambda x: x ** 2], 4))"
   ]
  },
  {
   "cell_type": "markdown",
   "metadata": {},
   "source": [
    "### Statement (Add Argument Checker - add_arg_checker)\n",
    "\n",
    "Write a function `add_arg_checker` that takes a function `foo` and an argument checker function `foo_checker`. It returns a new function `new_foo`. Before calling `foo`, `new_foo` will validate its arguments using `foo_checker`. If the arguments do not pass the check, an exception should be raised.\n",
    "\n",
    "The argument checker function `foo_checker` takes the same arguments as `foo` and raises a `ValueError` if the arguments are invalid.\n",
    "\n",
    "```bash\n",
    ">>> def foo(a, b):\n",
    "...     return a + b\n",
    "\n",
    ">>> def foo_checker(a, b):\n",
    "...     if not isinstance(a, int) or not isinstance(b, int):\n",
    "...         raise ValueError(\"Both arguments must be integers.\")\n",
    "\n",
    ">>> new_foo = add_arg_checker(foo, foo_checker)\n",
    ">>> new_foo(2, 3)\n",
    "5\n",
    "\n",
    ">>> new_foo(2, \"3\")\n",
    "# Raises ValueError: Both arguments must be integers.\n",
    "```\n",
    "\n"
   ]
  },
  {
   "cell_type": "code",
   "execution_count": 11,
   "metadata": {},
   "outputs": [
    {
     "name": "stdout",
     "output_type": "stream",
     "text": [
      "5\n",
      "Both arguments must be integers.\n"
     ]
    }
   ],
   "source": [
    "def add_arg_checker(func, checker):\n",
    "    def wrapper(*args, **kwargs):\n",
    "        checker(*args, **kwargs)  # Validate the arguments\n",
    "        return func(*args, **kwargs)  # Call the original function\n",
    "    return wrapper\n",
    "\n",
    "# Example usage\n",
    "def foo(a, b):\n",
    "    return a + b\n",
    "\n",
    "def foo_checker(a, b):\n",
    "    if not isinstance(a, int) or not isinstance(b, int):\n",
    "        raise ValueError(\"Both arguments must be integers.\")\n",
    "\n",
    "new_foo = add_arg_checker(foo, foo_checker)\n",
    "\n",
    "# Valid call\n",
    "print(new_foo(2, 3))  # Output: 5\n",
    "\n",
    "# Invalid call\n",
    "try:\n",
    "    print(new_foo(2, \"3\"))  # Raises ValueError\n",
    "except ValueError as e:\n",
    "    print(e)  # Output: Both arguments must be integers."
   ]
  },
  {
   "cell_type": "code",
   "execution_count": 12,
   "metadata": {},
   "outputs": [
    {
     "name": "stdout",
     "output_type": "stream",
     "text": [
      "5\n",
      "Both arguments must be integers.\n"
     ]
    }
   ],
   "source": [
    "# note: the thing above is similar to decorators\n",
    "\n",
    "def add_arg_checker(checker):\n",
    "    def outer_wrapper(func):\n",
    "        def wrapper(*args, **kwargs):\n",
    "            checker(*args, **kwargs)\n",
    "            return func(*args, **kwargs)\n",
    "        return wrapper\n",
    "    return outer_wrapper\n",
    "\n",
    "@add_arg_checker(foo_checker)\n",
    "def foo(a, b):\n",
    "    return a + b\n",
    "\n",
    "# Valid call\n",
    "print(foo(2, 3))  # Output: 5\n",
    "\n",
    "# Invalid call\n",
    "try:\n",
    "    print(foo(2, \"3\"))  # Raises ValueError\n",
    "except ValueError as e:\n",
    "    print(e)"
   ]
  }
 ],
 "metadata": {
  "kernelspec": {
   "display_name": "Python 3",
   "language": "python",
   "name": "python3"
  },
  "language_info": {
   "codemirror_mode": {
    "name": "ipython",
    "version": 3
   },
   "file_extension": ".py",
   "mimetype": "text/x-python",
   "name": "python",
   "nbconvert_exporter": "python",
   "pygments_lexer": "ipython3",
   "version": "3.12.2"
  }
 },
 "nbformat": 4,
 "nbformat_minor": 2
}
